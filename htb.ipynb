{
 "cells": [
  {
   "cell_type": "code",
   "execution_count": 8,
   "metadata": {},
   "outputs": [],
   "source": [
    "import numpy as np\n",
    "import math"
   ]
  },
  {
   "cell_type": "code",
   "execution_count": 9,
   "metadata": {},
   "outputs": [
    {
     "name": "stdout",
     "output_type": "stream",
     "text": [
      "r parametr if r isn't vector:  -3.7883844055831064\n",
      "Will we get T? T\n"
     ]
    }
   ],
   "source": [
    "x = ord(\"H\")\n",
    "A = np.array([[-49, 57, 1], [78, -78, 1], [50, 99, 1]])\n",
    "b = np.array([-x*47 - 981, 77*x + 1395, 85*x - 1668])\n",
    "r = np.linalg.solve(A, b)\n",
    "print(\"r parametr if r isn't vector: \", r[2])\n",
    "\n",
    "\n",
    "\n",
    "#Test on 'T'\n",
    "A = np.array([[47, -49, 57], [-77, 78, -78], [-85, 50, 99]])\n",
    "b = np.array([6934 - r[2], -10059 - r[2], 4270 - r[2]])\n",
    "t = np.linalg.solve(A, b)\n",
    "print(\"Will we get T?\", chr(int(math.ceil(t[0]))))\n"
   ]
  },
  {
   "cell_type": "code",
   "execution_count": 10,
   "metadata": {},
   "outputs": [
    {
     "name": "stdout",
     "output_type": "stream",
     "text": [
      "[-981, 1395, -1668]\n",
      "[6934, -10059, 4270]\n",
      "[3871, -5475, 3976]\n",
      "[4462, -7368, -8954]\n",
      "[2794, -4413, -3461]\n",
      "[5175, -7518, 3201]\n",
      "[3102, -5051, -5457]\n",
      "[7255, -10884, -266]\n",
      "[5694, -8016, 6237]\n",
      "[4160, -6038, 2582]\n",
      "[4940, -7069, 3770]\n",
      "[3185, -5158, -4939]\n",
      "[7669, -11686, -2231]\n",
      "[5601, -9013, -7971]\n",
      "[5600, -8355, 575]\n",
      "[1739, -2838, -3037]\n",
      "[2572, -4120, -3788]\n",
      "[8055, -11985, 1137]\n",
      "[7088, -10247, 5141]\n",
      "[8384, -12679, -1381]\n",
      "[-785, 1095, -1841]\n",
      "[4250, -6762, -5242]\n",
      "[3716, -5364, 2126]\n",
      "[5673, -7968, 6741]\n",
      "[5877, -9190, -4803]\n",
      "[5639, -8865, -5356]\n",
      "[1980, -3230, -3366]\n",
      "[6183, -9334, -1002]\n",
      "[2575, -4068, -2828]\n",
      "[7521, -11374, -1137]\n",
      "[5639, -8551, -1501]\n",
      "[4194, -6039, 3213]\n",
      "[2072, -3025, 383]\n",
      "[2444, -3699, -502]\n",
      "[6313, -9653, -2447]\n",
      "[4502, -7090, -4435]\n",
      "[-421, 894, 2912]\n",
      "[4667, -7142, -2266]\n",
      "[4228, -6616, -3749]\n",
      "[6258, -9719, -4407]\n",
      "[6044, -9561, -6463]\n",
      "[266, -423, -637]\n",
      "[3849, -6223, -5988]\n",
      "[5809, -9021, -4115]\n",
      "[4794, -7128, 918]\n",
      "[6340, -9442, 892]\n",
      "[5322, -8614, -8334]\n"
     ]
    }
   ],
   "source": [
    "# Имя вашего файла\n",
    "filename = r'C:\\Users\\User\\Desktop\\HackTheBox\\Quantum Safe\\crypto_quantum_safe\\enc.txt'\n",
    "\n",
    "# Список для хранения извлеченных чисел\n",
    "data = []\n",
    "\n",
    "# Открытие файла для чтения\n",
    "with open(filename, 'r') as file:\n",
    "    for line in file:\n",
    "        # Удаление пробельных символов с концов строки и удаление круглых скобок\n",
    "        line = line.strip().strip('()')\n",
    "        # Разделение строки по запятым и преобразование элементов в целые числа\n",
    "        numbers = list(map(int, line.split(',')))\n",
    "        # Добавление чисел в список\n",
    "        data.append(numbers)\n",
    "\n",
    "# Вывод извлеченных данных\n",
    "for item in data:\n",
    "    print(item)\n"
   ]
  },
  {
   "cell_type": "code",
   "execution_count": 14,
   "metadata": {},
   "outputs": [
    {
     "name": "stdout",
     "output_type": "stream",
     "text": [
      "Final answer:  HTB{r3duc1nG_tH3_l4tTicE_l1kE_n0b0dY's_pr0bl3M}\n"
     ]
    }
   ],
   "source": [
    "messege = \"\"\n",
    "A = np.array([[47, -49, 57], [-77, 78, -78], [-85, 50, 99]])\n",
    "for i in range(len(data)):\n",
    "    cisla = data[i]\n",
    "    b = np.array([cisla[0] - r[2], cisla[1] - r[2], cisla[2] - r[2]])\n",
    "    letter = np.linalg.solve(A, b)\n",
    "    messege += chr(int(round(letter[0])))\n",
    "print(\"Final answer: \", messege)"
   ]
  }
 ],
 "metadata": {
  "kernelspec": {
   "display_name": "Python 3",
   "language": "python",
   "name": "python3"
  },
  "language_info": {
   "codemirror_mode": {
    "name": "ipython",
    "version": 3
   },
   "file_extension": ".py",
   "mimetype": "text/x-python",
   "name": "python",
   "nbconvert_exporter": "python",
   "pygments_lexer": "ipython3",
   "version": "3.11.9"
  }
 },
 "nbformat": 4,
 "nbformat_minor": 2
}
